{
 "cells": [
  {
   "cell_type": "code",
   "execution_count": null,
   "id": "6e1ae72a",
   "metadata": {},
   "outputs": [],
   "source": [
    "# Prepare a classification model using SVM for salary data"
   ]
  },
  {
   "cell_type": "code",
   "execution_count": 1,
   "id": "1e35ff33",
   "metadata": {},
   "outputs": [],
   "source": [
    "import pandas as pd \n",
    "import numpy as np \n",
    "import seaborn as sns\n"
   ]
  },
  {
   "cell_type": "code",
   "execution_count": 12,
   "id": "8685d553",
   "metadata": {},
   "outputs": [],
   "source": [
    "forestfires = pd.read_csv(\"D:\\\\360DigiTMG\\\\Black Box Technique SVM\\\\HANDS ON MATERIAL\\\\Black Box Technique-SVM\\\\forestfires.csv\")\n"
   ]
  },
  {
   "cell_type": "code",
   "execution_count": 13,
   "id": "984343de",
   "metadata": {},
   "outputs": [],
   "source": [
    "data = forestfires.describe()"
   ]
  },
  {
   "cell_type": "code",
   "execution_count": 14,
   "id": "8a0bc358",
   "metadata": {},
   "outputs": [],
   "source": [
    "#Dropping the month and day columns\n",
    "forestfires.drop([\"month\",\"day\"],axis=1,inplace =True)"
   ]
  },
  {
   "cell_type": "code",
   "execution_count": 15,
   "id": "2e5d2046",
   "metadata": {},
   "outputs": [],
   "source": [
    "#Normalising the data as there is scale difference\n",
    "predictors = forestfires.iloc[:,0:28]\n",
    "target = forestfires.iloc[:,28]"
   ]
  },
  {
   "cell_type": "code",
   "execution_count": 16,
   "id": "b9f7e7f5",
   "metadata": {},
   "outputs": [],
   "source": [
    "def norm_func(i):\n",
    "    x= (i-i.min())/(i.max()-i.min())\n",
    "    return (x)"
   ]
  },
  {
   "cell_type": "code",
   "execution_count": 17,
   "id": "30655a60",
   "metadata": {},
   "outputs": [],
   "source": [
    "fires = norm_func(predictors)"
   ]
  },
  {
   "cell_type": "code",
   "execution_count": 18,
   "id": "7ea1883e",
   "metadata": {},
   "outputs": [],
   "source": [
    "from sklearn.svm import SVC\n",
    "from sklearn.model_selection import train_test_split"
   ]
  },
  {
   "cell_type": "code",
   "execution_count": 19,
   "id": "8d3d6cfb",
   "metadata": {},
   "outputs": [],
   "source": [
    "x_train,x_test,y_train,y_test = train_test_split(predictors,target,test_size = 0.25, stratify = target)"
   ]
  },
  {
   "cell_type": "code",
   "execution_count": 20,
   "id": "a2c2a7cb",
   "metadata": {},
   "outputs": [],
   "source": [
    "model_linear = SVC(kernel = \"linear\")\n",
    "model_linear.fit(x_train,y_train)\n",
    "pred_test_linear = model_linear.predict(x_test)"
   ]
  },
  {
   "cell_type": "code",
   "execution_count": 21,
   "id": "8f4b981f",
   "metadata": {},
   "outputs": [
    {
     "data": {
      "text/plain": [
       "0.9846153846153847"
      ]
     },
     "execution_count": 21,
     "metadata": {},
     "output_type": "execute_result"
    }
   ],
   "source": [
    "np.mean(pred_test_linear==y_test) # Accuracy = 100%"
   ]
  },
  {
   "cell_type": "code",
   "execution_count": 22,
   "id": "6bc18cca",
   "metadata": {},
   "outputs": [],
   "source": [
    "# Kernel = poly\n",
    "model_poly = SVC(kernel = \"poly\")\n",
    "model_poly.fit(x_train,y_train)\n",
    "pred_test_poly = model_poly.predict(x_test)"
   ]
  },
  {
   "cell_type": "code",
   "execution_count": 23,
   "id": "c0aa1bde",
   "metadata": {},
   "outputs": [
    {
     "data": {
      "text/plain": [
       "0.7538461538461538"
      ]
     },
     "execution_count": 23,
     "metadata": {},
     "output_type": "execute_result"
    }
   ],
   "source": [
    "np.mean(pred_test_poly==y_test) #Accuacy = 100%"
   ]
  },
  {
   "cell_type": "code",
   "execution_count": 24,
   "id": "946d6cb9",
   "metadata": {},
   "outputs": [],
   "source": [
    "# kernel = rbf\n",
    "model_rbf = SVC(kernel = \"rbf\")\n",
    "model_rbf.fit(x_train,y_train)\n",
    "pred_test_rbf = model_rbf.predict(x_test)"
   ]
  },
  {
   "cell_type": "code",
   "execution_count": 25,
   "id": "234cd555",
   "metadata": {},
   "outputs": [
    {
     "data": {
      "text/plain": [
       "0.7384615384615385"
      ]
     },
     "execution_count": 25,
     "metadata": {},
     "output_type": "execute_result"
    }
   ],
   "source": [
    "np.mean(pred_test_rbf==y_test) #Accuracy = 74.6%"
   ]
  },
  {
   "cell_type": "code",
   "execution_count": 26,
   "id": "ceb751f8",
   "metadata": {},
   "outputs": [],
   "source": [
    "#'sigmoid'\n",
    "model_sig = SVC(kernel = \"sigmoid\")\n",
    "model_sig.fit(x_train,y_train)\n",
    "pred_test_sig = model_rbf.predict(x_test)"
   ]
  },
  {
   "cell_type": "code",
   "execution_count": 27,
   "id": "066adbb1",
   "metadata": {},
   "outputs": [
    {
     "data": {
      "text/plain": [
       "0.7384615384615385"
      ]
     },
     "execution_count": 27,
     "metadata": {},
     "output_type": "execute_result"
    }
   ],
   "source": [
    "np.mean(pred_test_sig==y_test) #Accuracy = 73%"
   ]
  }
 ],
 "metadata": {
  "kernelspec": {
   "display_name": "Python 3",
   "language": "python",
   "name": "python3"
  },
  "language_info": {
   "codemirror_mode": {
    "name": "ipython",
    "version": 3
   },
   "file_extension": ".py",
   "mimetype": "text/x-python",
   "name": "python",
   "nbconvert_exporter": "python",
   "pygments_lexer": "ipython3",
   "version": "3.8.8"
  }
 },
 "nbformat": 4,
 "nbformat_minor": 5
}
